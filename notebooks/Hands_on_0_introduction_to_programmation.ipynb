{
 "cells": [
  {
   "cell_type": "markdown",
   "metadata": {},
   "source": [
    "# Introduction\n",
    "And a quick reminder\n",
    "### Primitive variables and basic operations"
   ]
  },
  {
   "cell_type": "code",
   "execution_count": null,
   "metadata": {},
   "outputs": [],
   "source": [
    "a=3\n",
    "b=5*a+3\n",
    "print(b)\n",
    "print('my number b=%d!!!' %(b))\n",
    "\n",
    "# press play or ctrl-enter to execute the block"
   ]
  },
  {
   "cell_type": "code",
   "execution_count": null,
   "metadata": {
    "scrolled": false
   },
   "outputs": [],
   "source": [
    "first_name = 'Lara'\n",
    "last_name = 'Croft'\n",
    "full_name = first_name + ' ' + last_name\n",
    "\n",
    "print(full_name)\n",
    "\n",
    "#this is a comment\n",
    "#printing a mix of string and numbers\n",
    "#and refering to a number defined earlier\n",
    "print('%s\\'s favorite number is %d'%(full_name, b))\n"
   ]
  },
  {
   "cell_type": "markdown",
   "metadata": {},
   "source": [
    "### List"
   ]
  },
  {
   "cell_type": "code",
   "execution_count": null,
   "metadata": {},
   "outputs": [],
   "source": [
    "#define a list with square brackets\n",
    "prime_numbers = [2, 3, 5, 7, 11, 13, 17, 19, 23]\n",
    "print(prime_numbers)\n",
    "\n",
    "#get the number of element within a list\n",
    "len_of_list = len(prime_numbers)\n",
    "print(len_of_list)\n",
    "\n",
    "#get the 3 elements \n",
    "#!!! indices starts with 0\n",
    "print(prime_numbers[2])"
   ]
  },
  {
   "cell_type": "markdown",
   "metadata": {},
   "source": [
    "##### Transform your list, with all element to the square"
   ]
  },
  {
   "cell_type": "code",
   "execution_count": null,
   "metadata": {},
   "outputs": [],
   "source": [
    "square_primes = [x*x for x in prime_numbers]\n",
    "print(square_primes)"
   ]
  },
  {
   "cell_type": "markdown",
   "metadata": {},
   "source": [
    "##### Breaking a sentence into a list"
   ]
  },
  {
   "cell_type": "code",
   "execution_count": null,
   "metadata": {},
   "outputs": [],
   "source": [
    "sentence='Romeo, Romeo! wherefore art thou Romeo?'\n",
    "break_by_spaces=sentence.split(' ')\n",
    "print(break_by_spaces)"
   ]
  },
  {
   "cell_type": "markdown",
   "metadata": {},
   "source": [
    "##### Make it cleaner\n",
    "It would be useful to remove every character that are not a letter or a space.\n",
    "We use **Regular Expressions**, via the imported **package** `re`"
   ]
  },
  {
   "cell_type": "code",
   "execution_count": null,
   "metadata": {},
   "outputs": [],
   "source": [
    "import re\n",
    "clean_sentence_array = re.split('[^a-zA-Z]+', sentence)\n",
    "print(clean_sentence_array)"
   ]
  },
  {
   "cell_type": "raw",
   "metadata": {},
   "source": [
    "Remove the empty word.\n",
    "And reuse the `clean_sentence_array` variable"
   ]
  },
  {
   "cell_type": "code",
   "execution_count": null,
   "metadata": {},
   "outputs": [],
   "source": [
    "clean_sentence_array = [x for x in clean_sentence_array if x != '']\n",
    "print(clean_sentence_array)"
   ]
  },
  {
   "cell_type": "markdown",
   "metadata": {},
   "source": [
    "### Dictionaries\n",
    "You have a key pointing to a variable"
   ]
  },
  {
   "cell_type": "code",
   "execution_count": null,
   "metadata": {},
   "outputs": [],
   "source": [
    "phone_numbers = {\n",
    "    'joe': '079 12 34 567',\n",
    "    'miriam': '078 98 76 543'\n",
    "}\n",
    "\n",
    "print(phone_numbers['miriam'])"
   ]
  },
  {
   "cell_type": "markdown",
   "metadata": {
    "slideshow": {
     "slide_type": "subslide"
    }
   },
   "source": [
    "Or even dictionaries of dictionaries (or whatever)"
   ]
  },
  {
   "cell_type": "code",
   "execution_count": null,
   "metadata": {},
   "outputs": [],
   "source": [
    "address_book = {\n",
    "    'joe':{\n",
    "        'cell': '079 12 34 567',\n",
    "        'email': 'joe.duck@yahoo.com'\n",
    "    },\n",
    "    'miriam':{\n",
    "        'cell': '078 98 76 543',\n",
    "        'email': 'miriam@paradise.org'\n",
    "    }\n",
    "}\n",
    "\n",
    "print(address_book['miriam'])\n",
    "print(address_book['miriam']['email'])"
   ]
  },
  {
   "cell_type": "markdown",
   "metadata": {},
   "source": [
    "### Control structure\n",
    "#### if conditions"
   ]
  },
  {
   "cell_type": "code",
   "execution_count": null,
   "metadata": {},
   "outputs": [],
   "source": [
    "x = 42\n",
    "y = 93\n",
    "if (y > x):\n",
    "    print('%d is BIG'%y)\n",
    "else:\n",
    "    print('%d is small'%y)\n",
    "    \n",
    "#find a value to y that write the second output"
   ]
  },
  {
   "cell_type": "markdown",
   "metadata": {},
   "source": [
    "#### Looping (across a table)"
   ]
  },
  {
   "cell_type": "code",
   "execution_count": null,
   "metadata": {},
   "outputs": [],
   "source": [
    "for word in clean_sentence_array:\n",
    "    print('one word: %s' % (word))"
   ]
  },
  {
   "cell_type": "markdown",
   "metadata": {},
   "source": [
    "#### Counting words\n",
    "With the `collection` package"
   ]
  },
  {
   "cell_type": "code",
   "execution_count": null,
   "metadata": {},
   "outputs": [],
   "source": [
    "#it is useful to use package that help us\n",
    "#go see the doc https://docs.python.org/3/library/collections.html\n",
    "from collections import Counter\n",
    "\n",
    "dict(Counter(clean_sentence_array))"
   ]
  },
  {
   "cell_type": "markdown",
   "metadata": {},
   "source": [
    "## Functions\n",
    "Functions are a piece of code to which you pass value, that will do some computations and eventually return a result.\n",
    "\n",
    "The major advantage is to break a program into small pieces and avoid cutting/pasting code all over the places"
   ]
  },
  {
   "cell_type": "code",
   "execution_count": null,
   "metadata": {},
   "outputs": [],
   "source": [
    "def dummy_function(a):\n",
    "    # here, some complicated code you want to use in many places\n",
    "    print(\"a equals to:\", a)\n",
    "dummy_function(3)\n",
    "dummy_function(\"Bob\")"
   ]
  },
  {
   "cell_type": "markdown",
   "metadata": {},
   "source": [
    "### Functions that return a value"
   ]
  },
  {
   "cell_type": "code",
   "execution_count": null,
   "metadata": {},
   "outputs": [],
   "source": [
    "def times_10(a):\n",
    "    return a*10\n",
    "\n",
    "print(times_10(4.2))\n",
    "print(times_10(0))"
   ]
  },
  {
   "cell_type": "code",
   "execution_count": null,
   "metadata": {},
   "outputs": [],
   "source": [
    "def times(a,b):\n",
    "    x = a*b\n",
    "    return x\n",
    "\n",
    "print(times(21,2))\n",
    "print(times(123,0.5))\n"
   ]
  },
  {
   "cell_type": "markdown",
   "metadata": {},
   "source": [
    "# Hands on: your turn\n",
    "## Condition"
   ]
  },
  {
   "cell_type": "markdown",
   "metadata": {},
   "source": [
    "These exercices aims to make you use Python for simple operations. You should be able to complete them using only simple operators and built-in functions:\n",
    "* keywords: if, while...\n",
    "* Operators : \\+ = ...\n",
    "* Functions: print, len...\n",
    "\n",
    "***As any developer, we expect you to use Internet to help you during theses exercices, with requests like \"Python length of list\"***"
   ]
  },
  {
   "cell_type": "markdown",
   "metadata": {},
   "source": [
    "Given:"
   ]
  },
  {
   "cell_type": "code",
   "execution_count": null,
   "metadata": {
    "collapsed": true
   },
   "outputs": [],
   "source": [
    "one_name = \"Bob\""
   ]
  },
  {
   "cell_type": "markdown",
   "metadata": {},
   "source": [
    "**Exercice**\n",
    "\n",
    "Do the following in next cell:\n",
    "* if one_name is equal to \"Bob\": print \"Hello Bob!\"\n",
    "* else: print \"I don't know you!\"\n",
    "\n",
    "Hints:\n",
    "* To use print in Python: http://nbviewer.jupyter.org/github/rajathkumarmp/Python-Lectures/blob/master/02.ipynb\n",
    "* To create a condition: http://nbviewer.jupyter.org/github/rajathkumarmp/Python-Lectures/blob/master/05.ipynb\n",
    "\n",
    "**Enter your code below**"
   ]
  },
  {
   "cell_type": "code",
   "execution_count": null,
   "metadata": {
    "collapsed": true
   },
   "outputs": [],
   "source": []
  },
  {
   "cell_type": "markdown",
   "metadata": {},
   "source": [
    "# Simple loop"
   ]
  },
  {
   "cell_type": "markdown",
   "metadata": {},
   "source": [
    "**Exercice**\n",
    "\n",
    "Print the message \"I am repeating my self\" 10 times using a loop\n",
    "\n",
    "Hint: http://nbviewer.jupyter.org/github/rajathkumarmp/Python-Lectures/blob/master/05.ipynb#Loops"
   ]
  },
  {
   "cell_type": "code",
   "execution_count": null,
   "metadata": {},
   "outputs": [],
   "source": [
    "# Change the code below to display it 10 times instead of one\n",
    "print(\"I am repeating my self\") "
   ]
  },
  {
   "cell_type": "markdown",
   "metadata": {},
   "source": [
    "***To go further:*** Can you do the same in a more concise way? (It is possible to do it in 1 line)"
   ]
  },
  {
   "cell_type": "code",
   "execution_count": null,
   "metadata": {
    "collapsed": true
   },
   "outputs": [],
   "source": []
  },
  {
   "cell_type": "markdown",
   "metadata": {},
   "source": [
    "# String concatenation"
   ]
  },
  {
   "cell_type": "markdown",
   "metadata": {},
   "source": [
    "Given:"
   ]
  },
  {
   "cell_type": "code",
   "execution_count": null,
   "metadata": {},
   "outputs": [],
   "source": [
    "string1 = \"The weather\"\n",
    "string2 = \"is cloudy\"\n",
    "print(\"string1:\", string1)\n",
    "print(\"string2:\", string2)"
   ]
  },
  {
   "cell_type": "markdown",
   "metadata": {},
   "source": [
    "**Exercice**\n",
    "\n",
    "Concatenate the two strings above, then print the result.\n",
    "\n",
    "Hint: http://www.pythonforbeginners.com/concatenation/string-concatenation-and-formatting-in-python"
   ]
  },
  {
   "cell_type": "code",
   "execution_count": null,
   "metadata": {
    "collapsed": true
   },
   "outputs": [],
   "source": []
  },
  {
   "cell_type": "markdown",
   "metadata": {},
   "source": [
    "# Get the length of a list"
   ]
  },
  {
   "cell_type": "markdown",
   "metadata": {},
   "source": [
    "Given:"
   ]
  },
  {
   "cell_type": "code",
   "execution_count": null,
   "metadata": {
    "collapsed": true
   },
   "outputs": [],
   "source": [
    "list_1 = [\"Bob\", \"Alice\", \"Laeticia\", \"Sergio\"]"
   ]
  },
  {
   "cell_type": "markdown",
   "metadata": {},
   "source": [
    "**Exercice**\n",
    "\n",
    "Get and print the length of this list.\n",
    "\n",
    "Hint: http://nbviewer.jupyter.org/github/rajathkumarmp/Python-Lectures/blob/master/03.ipynb#Built-in-List-Functions"
   ]
  },
  {
   "cell_type": "code",
   "execution_count": null,
   "metadata": {
    "collapsed": true
   },
   "outputs": [],
   "source": []
  },
  {
   "cell_type": "markdown",
   "metadata": {},
   "source": [
    "# Number of specific elements in a list"
   ]
  },
  {
   "cell_type": "markdown",
   "metadata": {},
   "source": [
    "Given:"
   ]
  },
  {
   "cell_type": "code",
   "execution_count": null,
   "metadata": {
    "collapsed": true
   },
   "outputs": [],
   "source": [
    "my_list = [\"Dog\", \"Cat\", \"Duck\", \"Bird\", \"Duck\"]"
   ]
  },
  {
   "cell_type": "markdown",
   "metadata": {},
   "source": [
    "**Exercice**\n",
    "\n",
    "Count and display the number of ducks in in list!"
   ]
  },
  {
   "cell_type": "code",
   "execution_count": null,
   "metadata": {
    "collapsed": true
   },
   "outputs": [],
   "source": []
  },
  {
   "cell_type": "markdown",
   "metadata": {},
   "source": [
    "**To go further:** Do it more concisely! It is possible to do it in one line."
   ]
  },
  {
   "cell_type": "code",
   "execution_count": null,
   "metadata": {
    "collapsed": true
   },
   "outputs": [],
   "source": []
  },
  {
   "cell_type": "markdown",
   "metadata": {},
   "source": [
    "**Eercice**\n",
    "Create your own function, with your implementation from above, and call it on these lists."
   ]
  },
  {
   "cell_type": "code",
   "execution_count": null,
   "metadata": {
    "collapsed": true
   },
   "outputs": [],
   "source": [
    "list_with_animals_1 = [\"Duck\", \"Dog\", \"Dog\", \"Cat\", \"Human\"]\n",
    "list_with_animals_2 = [\"Bird\", \"Duck\", \"Bear\", \"Cat\", \"Duck\", \"Duck\"]"
   ]
  },
  {
   "cell_type": "code",
   "execution_count": null,
   "metadata": {},
   "outputs": [],
   "source": [
    "# Your code here\n",
    "def count_ducks(list_with_animals):\n",
    "    # TODO: compute the number of ducks\n",
    "    return 0\n",
    "# Should display 1\n",
    "print(count_ducks(list_with_animals_1))\n",
    "# Should display 3\n",
    "print(count_ducks(list_with_animals_2))"
   ]
  },
  {
   "cell_type": "markdown",
   "metadata": {},
   "source": [
    "### Fibonacci suite\n",
    "A Fibonacci suite is suite of numbers (F_1, F_2, F_3, ...), that starts with (1, 1), so that the next number is the sum of the two last one:\n",
    "    `F_n = F_n-1 + F_n-2`\n",
    "Go visit wikipedia to know more: https://en.wikipedia.org/wiki/Fibonacci_number\n",
    "\n",
    "**Exercice**\n",
    "Make **two** totally different functions that return the nth Fibonacci number. \n",
    "Hints: a function can call itself\n",
    "\n",
    "#### On the golden ratio\n",
    "Used by the ancient Greeks as the ultimate beautiful proportion, the golden ratio (https://en.wikipedia.org/wiki/Golden_ratio) can be approximated as the ratio of two following numbers of Fibonacci suite. \n",
    "**Exercice**\n",
    "Print an approximation of the golden rati\n",
    "\n"
   ]
  },
  {
   "cell_type": "markdown",
   "metadata": {},
   "source": [
    "# To go further..."
   ]
  },
  {
   "cell_type": "markdown",
   "metadata": {},
   "source": [
    "## Unit tests"
   ]
  },
  {
   "cell_type": "markdown",
   "metadata": {},
   "source": [
    "* Units tests are separated functions that you run to check the behavior of your code.\n",
    "* In Python, you can add unit tests at the beginning of your function. These tests, given as a string, are also providing documentation about your function. below is an example. ***Can you make it work?***"
   ]
  },
  {
   "cell_type": "code",
   "execution_count": null,
   "metadata": {},
   "outputs": [],
   "source": [
    "import doctest\n",
    "def count_ducks_with_doctest(list_in):\n",
    "    \"\"\"\n",
    "    >>> count_ducks_with_doctest([])\n",
    "    0\n",
    "    >>> count_ducks_with_doctest([\"Duck\", \"Dog\", \"Dog\", \"Cat\", \"Human\"])\n",
    "    1\n",
    "    >>> count_ducks_with_doctest([\"Bird\", \"Duck\", \"Bear\", \"Cat\", \"Duck\", \"Duck\"])\n",
    "    3\n",
    "    \"\"\"\n",
    "    # return 0 does not work (except for an empty list)\n",
    "    # replace it by something smater that passes the tests\n",
    "    return 0\n",
    "doctest.run_docstring_examples(count_ducks_with_doctest, globals())"
   ]
  },
  {
   "cell_type": "code",
   "execution_count": null,
   "metadata": {},
   "outputs": [],
   "source": [
    "import doctest\n",
    "def count_animal_with_doctest(list_in, animal):\n",
    "    \"\"\"\n",
    "    >>> count_animal_with_doctest([], 'Duck')\n",
    "    0\n",
    "    >>> count_animal_with_doctest(['Duck'], 'Duck')\n",
    "    1\n",
    "    >>> count_animal_with_doctest([\"Duck\", \"Dog\", \"Dog\", \"Cat\", \"Human\"], 'Dog')\n",
    "    2\n",
    "    >>> count_animal_with_doctest([\"Bird\", \"Duck\", \"Bear\", \"Cat\", \"Duck\", \"Duck\"], 'Dolphin')\n",
    "    0\n",
    "    \"\"\"\n",
    "    # return 0 does not work (except for an empty list)\n",
    "    # replace it by something smater that passes the tests\n",
    "    return 0\n",
    "doctest.run_docstring_examples(count_animal_with_doctest, globals())"
   ]
  },
  {
   "cell_type": "markdown",
   "metadata": {
    "collapsed": true
   },
   "source": [
    "## Titanic\n",
    "Let's have a look at the Titanic data (in advance for next time)\n",
    "\n",
    "Download it and copy locally"
   ]
  },
  {
   "cell_type": "code",
   "execution_count": null,
   "metadata": {},
   "outputs": [],
   "source": [
    "!curl https://raw.githubusercontent.com/sdenel/crea-introduction-to-programmation/master/data/titanic_train.csv -o titanic_train.csv\n"
   ]
  },
  {
   "cell_type": "markdown",
   "metadata": {},
   "source": [
    "Load the text file. We propose a function that will parse the file and return a list of objects: all the lines, returned as individual dictionaries"
   ]
  },
  {
   "cell_type": "code",
   "execution_count": null,
   "metadata": {},
   "outputs": [],
   "source": [
    "import csv\n",
    "def load_csv(filename):\n",
    "    with open(filename, newline='') as csvfile:\n",
    "        my_reader = csv.DictReader(csvfile)\n",
    "        return list(my_reader)\n",
    "    \n",
    "titanic_passengers = load_csv('titanic_train.csv')"
   ]
  },
  {
   "cell_type": "markdown",
   "metadata": {},
   "source": [
    "### It's time to play\n",
    "\n",
    "  * How many passengers are they?\n",
    "  * How many men/women\n",
    "  * How many by class\n",
    "  * How many survided?\n",
    "  * How many embarked from where?\n",
    "  \n",
    "Write a generic function to ask such questions"
   ]
  },
  {
   "cell_type": "markdown",
   "metadata": {},
   "source": [
    "### And to get serious\n",
    "\n",
    "How would you write a system that predict if a passenger is likely to die or survive?"
   ]
  },
  {
   "cell_type": "code",
   "execution_count": null,
   "metadata": {
    "collapsed": true
   },
   "outputs": [],
   "source": []
  }
 ],
 "metadata": {
  "kernelspec": {
   "display_name": "Python 3",
   "language": "python",
   "name": "python3"
  },
  "language_info": {
   "codemirror_mode": {
    "name": "ipython",
    "version": 3
   },
   "file_extension": ".py",
   "mimetype": "text/x-python",
   "name": "python",
   "nbconvert_exporter": "python",
   "pygments_lexer": "ipython3",
   "version": "3.5.4"
  }
 },
 "nbformat": 4,
 "nbformat_minor": 2
}
